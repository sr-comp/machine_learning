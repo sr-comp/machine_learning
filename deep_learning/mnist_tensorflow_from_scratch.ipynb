{
  "nbformat": 4,
  "nbformat_minor": 0,
  "metadata": {
    "colab": {
      "name": "tensorflow_from_scratch.ipynb",
      "provenance": [],
      "collapsed_sections": []
    },
    "kernelspec": {
      "name": "python3",
      "display_name": "Python 3"
    },
    "language_info": {
      "name": "python"
    }
  },
  "cells": [
    {
      "cell_type": "code",
      "metadata": {
        "id": "rKxmNj5sBLC5"
      },
      "source": [
        "import tensorflow as tf\n",
        "import numpy as np"
      ],
      "execution_count": null,
      "outputs": []
    },
    {
      "cell_type": "code",
      "metadata": {
        "id": "SPRLWr5KBwD5"
      },
      "source": [
        "class NeuralNetwork:\n",
        "    def __init__(self, layers):\n",
        "      self.layers = layers\n",
        "      self.length = len(layers)\n",
        "      self.num_features = layers[0]\n",
        "      self.num_classes = layers[-1] \n",
        "      self.weight = {}\n",
        "      self.bias = {}\n",
        "      self.derivative_weight = {}\n",
        "      self.derivative_bias = {} \n",
        "      self.setup()\n",
        "        \n",
        "    def setup(self):\n",
        "      for i in range(1, self.length):\n",
        "          self.weight[i] = tf.Variable(tf.random.normal(shape = (self.layers[i], self.layers[i-1])))\n",
        "          self.bias[i] = tf.Variable(tf.random.normal(shape = (self.layers[i], 1)))\n",
        "\n",
        "    def forward_pass(self, input_data): \n",
        "      output_layer = tf.convert_to_tensor(input_data, dtype = tf.float32)\n",
        "      for i in range(1, self.length):\n",
        "          input_data_represented = tf.matmul(output_layer, tf.transpose(self.weight[i])) + tf.transpose(self.bias[i])\n",
        "          if i != self.length-1:\n",
        "              output_layer = tf.nn.relu(input_data_represented)\n",
        "          else:\n",
        "              output_layer = input_data_represented\n",
        "      return output_layer\n",
        "\n",
        "    def compute_loss(self, labels_pred, labels):\n",
        "      loss = tf.nn.softmax_cross_entropy_with_logits(labels, labels_pred)\n",
        "      return tf.reduce_mean(loss)\n",
        "    \n",
        "    def update_params(self, lr):\n",
        "      for i in range (1, self.length):\n",
        "          self.weight[i].assign_sub(lr * self.derivative_weight[i])\n",
        "          self.bias[i].assign_sub(lr * self.derivative_bias[i])\n",
        "    \n",
        "    def predict(self, input_data):\n",
        "      output = self.forward_pass(input_data)\n",
        "      labels = tf.argmax(tf.nn.softmax(output), axis = 1)\n",
        "      return labels\n",
        "          \n",
        "    def info(self):\n",
        "      num_params = 0\n",
        "      for i in range(1, self.length):\n",
        "          num_params += self.weight[i].shape[0] * self.weight[i].shape[1]\n",
        "          num_params += self.bias[i].shape[0]\n",
        "      print('Input Features:', self.num_features)\n",
        "      print('Number of Classes:', self.num_classes)\n",
        "      print('Hidden Layers:')\n",
        "      print('--------------')\n",
        "      for i in range(1, self.length-1):\n",
        "          print('Layer {}, Units {}'.format(i, self.layers[i]))\n",
        "      print('--------------')\n",
        "      print('Number of parameters:', num_params)\n",
        "\n",
        "    def train_on_batch(self, X_batch, y_batch, learning_rate):\n",
        "      X_batch = tf.convert_to_tensor(X_batch, dtype = tf.float32)\n",
        "      y_batch = tf.convert_to_tensor(y_batch, dtype = tf.float32)\n",
        "      \n",
        "      # Record operations for automatic differentiation\n",
        "      with tf.GradientTape(persistent = True) as tape:\n",
        "          y_batch_pred = self.forward_pass(X_batch)\n",
        "          loss = self.compute_loss(y_batch_pred, y_batch)\n",
        "      for i in range(1, self.length):\n",
        "          self.derivative_weight[i] = tape.gradient(loss, self.weight[i])\n",
        "          self.derivative_bias[i] = tape.gradient(loss, self.bias[i])\n",
        "      del tape\n",
        "      self.update_params(learning_rate)\n",
        "      return loss.numpy()\n",
        "\n",
        "    def fit(self, X_train, y_train, X_val, y_val, epochs, steps_per_epoch, batch_size, learning_rate):\n",
        "      history = {\n",
        "          'val_loss': [],\n",
        "          'train_loss': [],\n",
        "          'val_acc': []\n",
        "      }\n",
        "      for e in range(0, epochs):\n",
        "          epoch_train_loss = 0\n",
        "          print('Epoch {} '.format(e + 1), end = '.')\n",
        "          for i in range(0, steps_per_epoch):\n",
        "              X_batch = X_train[i * batch_size: (i+1) * batch_size]\n",
        "              y_batch = y_train[i * batch_size: (i+1) * batch_size]\n",
        "              batch_loss = self.train_on_batch(X_batch, y_batch, learning_rate)\n",
        "              epoch_train_loss += batch_loss\n",
        "              \n",
        "              if i % int(steps_per_epoch/10) == 0:\n",
        "                  print(end = '.')       \n",
        "          history['train_loss'].append(epoch_train_loss / steps_per_epoch)\n",
        "          out_layer_val = self.forward_pass(X_val)\n",
        "          val_loss = self.compute_loss(out_layer_val, y_val).numpy()\n",
        "          history['val_loss'].append(val_loss)\n",
        "          \n",
        "          y_val_pred = self.predict(X_val)\n",
        "          val_acc = np.mean(np.argmax(y_val, axis = 1) == y_val_pred.numpy())\n",
        "          history['val_acc'].append(val_acc)\n",
        "          print(' val_acc:', val_acc)\n",
        "      return history\n",
        "\n",
        "    def evaluate(self, X_test, y_test):\n",
        "      y_pred = self.predict(X_test)\n",
        "      test_acc = np.mean(np.argmax(y_test, axis = 1) == y_pred.numpy())\n",
        "      return test_acc\n"
      ],
      "execution_count": null,
      "outputs": []
    },
    {
      "cell_type": "code",
      "metadata": {
        "colab": {
          "base_uri": "https://localhost:8080/",
          "height": 302
        },
        "id": "ZrwTU8HgCfRA",
        "outputId": "006b4bab-0d36-427d-c67e-e837cce36697"
      },
      "source": [
        "from tensorflow.keras.datasets import mnist\n",
        "from matplotlib import pyplot as plt\n",
        "# load dataset\n",
        "(X_train, y_train), (X_test, y_test) = mnist.load_data()\n",
        "# summarize loaded dataset\n",
        "print('Train: X=%s, y=%s' % (X_train.shape, y_train.shape))\n",
        "print('Test: X=%s, y=%s' % (X_test.shape, y_test.shape))\n",
        "# plot first few images\n",
        "for i in range(9):\n",
        "\tplt.subplot(330 + 1 + i)\n",
        "\tplt.imshow(X_train[i], cmap=plt.get_cmap('gray'))\n",
        "plt.show()"
      ],
      "execution_count": null,
      "outputs": [
        {
          "output_type": "stream",
          "name": "stdout",
          "text": [
            "Train: X=(60000, 28, 28), y=(60000,)\n",
            "Test: X=(10000, 28, 28), y=(10000,)\n"
          ]
        },
        {
          "output_type": "display_data",
          "data": {
            "image/png": "[encoded data removed]",
            "text/plain": [
              "<Figure size 432x288 with 9 Axes>"
            ]
          },
          "metadata": {
            "needs_background": "light"
          }
        }
      ]
    },
    {
      "cell_type": "code",
      "metadata": {
        "id": "qKya0m7NEzGZ"
      },
      "source": [
        "# Preprocess the data \n",
        "X_train = X_train.reshape(60000, 784).astype(\"float32\") / 255\n",
        "X_test = X_test.reshape(10000, 784).astype(\"float32\") / 255\n",
        "\n",
        "y_train = tf.keras.utils.to_categorical(y_train)\n",
        "y_test = tf.keras.utils.to_categorical(y_test)"
      ],
      "execution_count": null,
      "outputs": []
    },
    {
      "cell_type": "code",
      "metadata": {
        "id": "PUv1H_0MKaoN"
      },
      "source": [
        "# Reserve 10,000 samples for validation\n",
        "X_val = X_train[-10000:]\n",
        "y_val = y_train[-10000:]\n",
        "X_train = X_train[:-10000]\n",
        "y_train = y_train[:-10000]"
      ],
      "execution_count": null,
      "outputs": []
    },
    {
      "cell_type": "code",
      "metadata": {
        "colab": {
          "base_uri": "https://localhost:8080/"
        },
        "id": "6ERbMnJ8DUTg",
        "outputId": "4e3cb3fc-f608-411c-e409-d2e1df761ede"
      },
      "source": [
        "model = NeuralNetwork([784, 128, 128, 10])\n",
        "model.info()"
      ],
      "execution_count": null,
      "outputs": [
        {
          "output_type": "stream",
          "name": "stdout",
          "text": [
            "Input Features: 784\n",
            "Number of Classes: 10\n",
            "Hidden Layers:\n",
            "--------------\n",
            "Layer 1, Units 128\n",
            "Layer 2, Units 128\n",
            "--------------\n",
            "Number of parameters: 118282\n"
          ]
        }
      ]
    },
    {
      "cell_type": "code",
      "metadata": {
        "colab": {
          "base_uri": "https://localhost:8080/"
        },
        "id": "_tWrqcTkDZCI",
        "outputId": "9e0897c8-bd4b-4bad-f4ac-26bea99ee00d"
      },
      "source": [
        "batch_size = 128 \n",
        "epochs = 5\n",
        "steps_per_epoch = int(X_train.shape[0] / batch_size)\n",
        "learning_rate = 0.01\n",
        "print('Steps per epoch', steps_per_epoch)"
      ],
      "execution_count": null,
      "outputs": [
        {
          "output_type": "stream",
          "name": "stdout",
          "text": [
            "Steps per epoch 390\n"
          ]
        }
      ]
    },
    {
      "cell_type": "code",
      "metadata": {
        "colab": {
          "base_uri": "https://localhost:8080/"
        },
        "id": "QFTJuqByD92X",
        "outputId": "5e940515-1b76-498c-f515-35628d827eb9"
      },
      "source": [
        "history = model.fit(X_train, y_train, \n",
        "                    X_val, y_val,\n",
        "                    epochs, steps_per_epoch, \n",
        "                    batch_size, learning_rate)"
      ],
      "execution_count": null,
      "outputs": [
        {
          "output_type": "stream",
          "name": "stdout",
          "text": [
            "Epoch 1 ........... val_acc: 0.8445\n",
            "Epoch 2 ........... val_acc: 0.8654\n",
            "Epoch 3 ........... val_acc: 0.8742\n",
            "Epoch 4 ........... val_acc: 0.8763\n",
            "Epoch 5 ........... val_acc: 0.8802\n"
          ]
        }
      ]
    },
    {
      "cell_type": "code",
      "metadata": {
        "colab": {
          "base_uri": "https://localhost:8080/"
        },
        "id": "620MGz0wP5Nk",
        "outputId": "71bafc33-fc04-4156-cbce-762c916972f7"
      },
      "source": [
        "history"
      ],
      "execution_count": null,
      "outputs": [
        {
          "output_type": "execute_result",
          "data": {
            "text/plain": [
              "{'train_loss': [37.92792473817483,\n",
              "  11.21126803618211,\n",
              "  7.198046119702168,\n",
              "  5.298514870191232,\n",
              "  4.165000630800541],\n",
              " 'val_acc': [0.8445, 0.8654, 0.8742, 0.8763, 0.8802],\n",
              " 'val_loss': [13.639097, 8.543267, 6.449476, 5.3227525, 4.4887123]}"
            ]
          },
          "metadata": {},
          "execution_count": 9
        }
      ]
    },
    {
      "cell_type": "code",
      "metadata": {
        "colab": {
          "base_uri": "https://localhost:8080/",
          "height": 406
        },
        "id": "8H80gEEXFe1i",
        "outputId": "fd7056af-7ad5-48c5-faa2-0514428836e8"
      },
      "source": [
        "plt.figure(figsize=(8, 6))\n",
        "epochs = len(history['val_loss'])\n",
        "plt.plot(range(epochs), history['val_loss'], label='Val Loss')\n",
        "plt.plot(range(epochs), history['train_loss'], label='Train Loss')\n",
        "plt.xticks(list(range(epochs)))\n",
        "plt.xlabel('Epochs')\n",
        "plt.ylabel('Loss')\n",
        "plt.legend()"
      ],
      "execution_count": null,
      "outputs": [
        {
          "output_type": "execute_result",
          "data": {
            "text/plain": [
              "<matplotlib.legend.Legend at 0x7fbb024c7e10>"
            ]
          },
          "metadata": {},
          "execution_count": 10
        },
        {
          "output_type": "display_data",
          "data": {
            "image/png": "[encoded data removed]",
            "text/plain": [
              "<Figure size 576x432 with 1 Axes>"
            ]
          },
          "metadata": {
            "needs_background": "light"
          }
        }
      ]
    },
    {
      "cell_type": "code",
      "metadata": {
        "id": "QjoEXSrUFnRv",
        "colab": {
          "base_uri": "https://localhost:8080/"
        },
        "outputId": "dd9e7acc-04ae-44a6-9126-fb315b3259c8"
      },
      "source": [
        "test_acc = model.evaluate(X_test, y_test)\n",
        "print(\"Test Accuracy is {}.\".format(test_acc))"
      ],
      "execution_count": null,
      "outputs": [
        {
          "output_type": "stream",
          "name": "stdout",
          "text": [
            "Test Accuracy is 0.8762.\n"
          ]
        }
      ]
    }
  ]
}