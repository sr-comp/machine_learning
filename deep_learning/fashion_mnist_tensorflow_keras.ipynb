{
  "nbformat": 4,
  "nbformat_minor": 0,
  "metadata": {
    "colab": {
      "name": "assignment_dl.ipynb",
      "provenance": [],
      "collapsed_sections": []
    },
    "kernelspec": {
      "name": "python3",
      "display_name": "Python 3"
    },
    "language_info": {
      "name": "python"
    }
  },
  "cells": [
    {
      "cell_type": "code",
      "metadata": {
        "id": "Gp6mW3dmwykF"
      },
      "source": [
        "import tensorflow as tf\n",
        "from tensorflow import keras\n",
        "from tensorflow.keras import models"
      ],
      "execution_count": null,
      "outputs": []
    },
    {
      "cell_type": "code",
      "metadata": {
        "colab": {
          "base_uri": "https://localhost:8080/"
        },
        "id": "-EIzypiz1SQY",
        "outputId": "39b6e557-19ab-4148-b704-3bbf1aeba219"
      },
      "source": [
        "#load fashin mnist dataset\n",
        "(training_images, training_labels), (test_images, test_labels) = keras.datasets.fashion_mnist.load_data()\n",
        "print(training_images.shape)\n",
        "\n",
        "#reshape\n",
        "training_images = training_images.reshape(training_images.shape[0], 28,28,1)\n",
        "test_images = test_images.reshape(test_images.shape[0], 28,28,1)\n",
        "print(training_images.shape)"
      ],
      "execution_count": null,
      "outputs": [
        {
          "output_type": "stream",
          "name": "stdout",
          "text": [
            "(60000, 28, 28)\n",
            "(60000, 28, 28, 1)\n"
          ]
        }
      ]
    },
    {
      "cell_type": "markdown",
      "metadata": {
        "id": "GnwqtxMKt24g"
      },
      "source": [
        "# softmax activation function"
      ]
    },
    {
      "cell_type": "code",
      "metadata": {
        "colab": {
          "base_uri": "https://localhost:8080/"
        },
        "id": "rQBC8wCqsAne",
        "outputId": "25468f84-5fe7-4a25-9652-87810d21e0f3"
      },
      "source": [
        "#define model\n",
        "def get_model_cnn():\n",
        "  model_cnn = tf.keras.models.Sequential(name=\"cnn_model\")\n",
        "  model_cnn.add(keras.layers.SeparableConv2D(32, (3,3), activation='relu', input_shape=(28,28,1)))\n",
        "  model_cnn.add(keras.layers.MaxPooling2D(2,2))\n",
        "  model_cnn.add(keras.layers.SeparableConv2D(64, (3,3), activation='relu'))\n",
        "  model_cnn.add(keras.layers.MaxPooling2D((2,2)))\n",
        "  model_cnn.add(tf.keras.layers.Flatten())\n",
        "  model_cnn.add(tf.keras.layers.Dense(128, activation=keras.activations.relu))\n",
        "  model_cnn.add(tf.keras.layers.Dense(10, activation='softmax'))\n",
        "\n",
        "  model_cnn.compile(optimizer='adam', loss=keras.losses.sparse_categorical_crossentropy, metrics=['accuracy'])\n",
        "\n",
        "  return model_cnn\n",
        "\n",
        "model_cnn = get_model_cnn()\n",
        "model_cnn.summary()"
      ],
      "execution_count": null,
      "outputs": [
        {
          "output_type": "stream",
          "name": "stdout",
          "text": [
            "Model: \"cnn_model\"\n",
            "_________________________________________________________________\n",
            " Layer (type)                Output Shape              Param #   \n",
            "=================================================================\n",
            " separable_conv2d (Separable  (None, 26, 26, 32)       73        \n",
            " Conv2D)                                                         \n",
            "                                                                 \n",
            " max_pooling2d (MaxPooling2D  (None, 13, 13, 32)       0         \n",
            " )                                                               \n",
            "                                                                 \n",
            " separable_conv2d_1 (Separab  (None, 11, 11, 64)       2400      \n",
            " leConv2D)                                                       \n",
            "                                                                 \n",
            " max_pooling2d_1 (MaxPooling  (None, 5, 5, 64)         0         \n",
            " 2D)                                                             \n",
            "                                                                 \n",
            " flatten (Flatten)           (None, 1600)              0         \n",
            "                                                                 \n",
            " dense (Dense)               (None, 128)               204928    \n",
            "                                                                 \n",
            " dense_1 (Dense)             (None, 10)                1290      \n",
            "                                                                 \n",
            "=================================================================\n",
            "Total params: 208,691\n",
            "Trainable params: 208,691\n",
            "Non-trainable params: 0\n",
            "_________________________________________________________________\n"
          ]
        }
      ]
    },
    {
      "cell_type": "code",
      "metadata": {
        "colab": {
          "base_uri": "https://localhost:8080/"
        },
        "id": "wSMDOmiBtn_G",
        "outputId": "0d9fe092-e546-4e1d-d44e-422282af9350"
      },
      "source": [
        "history =model_cnn.fit(training_images, training_labels, epochs=5)"
      ],
      "execution_count": null,
      "outputs": [
        {
          "output_type": "stream",
          "name": "stdout",
          "text": [
            "Epoch 1/5\n",
            "1875/1875 [==============================] - 42s 22ms/step - loss: 0.5361 - accuracy: 0.8163\n",
            "Epoch 2/5\n",
            "1875/1875 [==============================] - 41s 22ms/step - loss: 0.3731 - accuracy: 0.8637\n",
            "Epoch 3/5\n",
            "1875/1875 [==============================] - 41s 22ms/step - loss: 0.3385 - accuracy: 0.8751\n",
            "Epoch 4/5\n",
            "1875/1875 [==============================] - 41s 22ms/step - loss: 0.3082 - accuracy: 0.8849\n",
            "Epoch 5/5\n",
            "1875/1875 [==============================] - 41s 22ms/step - loss: 0.2862 - accuracy: 0.8931\n"
          ]
        }
      ]
    },
    {
      "cell_type": "code",
      "metadata": {
        "colab": {
          "base_uri": "https://localhost:8080/"
        },
        "id": "Ps2RnptyuLu-",
        "outputId": "e2ee9a36-5ee3-40d4-f10c-29184495c755"
      },
      "source": [
        "test_loss, test_acc = model_cnn.evaluate(test_images, test_labels)\n",
        "print(test_acc)"
      ],
      "execution_count": null,
      "outputs": [
        {
          "output_type": "stream",
          "name": "stdout",
          "text": [
            "313/313 [==============================] - 3s 8ms/step - loss: 0.3684 - accuracy: 0.8644\n",
            "0.8644000291824341\n"
          ]
        }
      ]
    },
    {
      "cell_type": "markdown",
      "metadata": {
        "id": "XM7gEMhwuZy-"
      },
      "source": [
        "# linear activation function"
      ]
    },
    {
      "cell_type": "markdown",
      "metadata": {
        "id": "tJ8e0t3Xulzc"
      },
      "source": [
        "### from_logits=False"
      ]
    },
    {
      "cell_type": "code",
      "metadata": {
        "id": "BjhIDEP-vQrG"
      },
      "source": [
        "#define model\n",
        "def get_model_cnn():\n",
        "  model_cnn = tf.keras.models.Sequential(name=\"cnn_model\")\n",
        "  model_cnn.add(keras.layers.SeparableConv2D(32, (3,3), activation='relu', input_shape=(28,28,1)))\n",
        "  model_cnn.add(keras.layers.MaxPooling2D(2,2))\n",
        "  model_cnn.add(keras.layers.SeparableConv2D(64, (3,3), activation='relu'))\n",
        "  model_cnn.add(keras.layers.MaxPooling2D((2,2)))\n",
        "  model_cnn.add(tf.keras.layers.Flatten())\n",
        "  model_cnn.add(tf.keras.layers.Dense(128, activation=keras.activations.relu))\n",
        "  model_cnn.add(tf.keras.layers.Dense(10))\n",
        "\n",
        "  model_cnn.compile(optimizer='adam', loss=keras.losses.sparse_categorical_crossentropy, metrics=['accuracy'])\n",
        "\n",
        "  return model_cnn\n",
        "\n",
        "model_cnn = get_model_cnn()"
      ],
      "execution_count": null,
      "outputs": []
    },
    {
      "cell_type": "code",
      "metadata": {
        "colab": {
          "base_uri": "https://localhost:8080/"
        },
        "id": "pHWuNGXJvQsG",
        "outputId": "b2e33710-238f-415a-c161-cc08c59f845e"
      },
      "source": [
        "history =model_cnn.fit(training_images, training_labels, epochs=5)"
      ],
      "execution_count": null,
      "outputs": [
        {
          "output_type": "stream",
          "name": "stdout",
          "text": [
            "Epoch 1/5\n",
            "1875/1875 [==============================] - 42s 22ms/step - loss: 13.0143 - accuracy: 0.1632\n",
            "Epoch 2/5\n",
            "1875/1875 [==============================] - 41s 22ms/step - loss: 13.5876 - accuracy: 0.1645\n",
            "Epoch 3/5\n",
            "1875/1875 [==============================] - 41s 22ms/step - loss: 13.5876 - accuracy: 0.1645\n",
            "Epoch 4/5\n",
            "1875/1875 [==============================] - 41s 22ms/step - loss: 13.5876 - accuracy: 0.1645\n",
            "Epoch 5/5\n",
            "1875/1875 [==============================] - 41s 22ms/step - loss: 13.5876 - accuracy: 0.1645\n"
          ]
        }
      ]
    },
    {
      "cell_type": "code",
      "metadata": {
        "colab": {
          "base_uri": "https://localhost:8080/"
        },
        "id": "J_U9-Kgn0f-_",
        "outputId": "8abd9554-2714-488e-a1eb-51d4acff5515"
      },
      "source": [
        "test_loss, test_acc = model_cnn.evaluate(test_images, test_labels)\n",
        "print(test_acc)"
      ],
      "execution_count": null,
      "outputs": [
        {
          "output_type": "stream",
          "name": "stdout",
          "text": [
            "313/313 [==============================] - 3s 8ms/step - loss: 13.5876 - accuracy: 0.1625\n",
            "0.16249999403953552\n"
          ]
        }
      ]
    },
    {
      "cell_type": "markdown",
      "metadata": {
        "id": "DCNwfjjL0utt"
      },
      "source": [
        "## from_logits=True"
      ]
    },
    {
      "cell_type": "code",
      "metadata": {
        "id": "2d-jQevq1fIm"
      },
      "source": [
        "#define model\n",
        "def get_model_cnn():\n",
        "  model_cnn = tf.keras.models.Sequential(name=\"cnn_model\")\n",
        "  model_cnn.add(keras.layers.SeparableConv2D(32, (3,3), activation='relu', input_shape=(28,28,1)))\n",
        "  model_cnn.add(keras.layers.MaxPooling2D(2,2))\n",
        "  model_cnn.add(keras.layers.SeparableConv2D(64, (3,3), activation='relu'))\n",
        "  model_cnn.add(keras.layers.MaxPooling2D((2,2)))\n",
        "  model_cnn.add(tf.keras.layers.Flatten())\n",
        "  model_cnn.add(tf.keras.layers.Dense(128, activation=keras.activations.relu))\n",
        "  model_cnn.add(tf.keras.layers.Dense(10))\n",
        "\n",
        "  model_cnn.compile(optimizer='adam', loss=keras.losses.SparseCategoricalCrossentropy(from_logits=True), metrics=['accuracy'])\n",
        "\n",
        "  return model_cnn\n",
        "\n",
        "model_cnn = get_model_cnn()\n"
      ],
      "execution_count": null,
      "outputs": []
    },
    {
      "cell_type": "code",
      "metadata": {
        "colab": {
          "base_uri": "https://localhost:8080/"
        },
        "id": "wQ8vBlN91w3_",
        "outputId": "fbbdd072-5a2c-41f1-88a7-5c79d88a4e50"
      },
      "source": [
        "history =model_cnn.fit(training_images, training_labels, epochs=5)"
      ],
      "execution_count": null,
      "outputs": [
        {
          "output_type": "stream",
          "name": "stdout",
          "text": [
            "Epoch 1/5\n",
            "1875/1875 [==============================] - 41s 22ms/step - loss: 0.4877 - accuracy: 0.8252\n",
            "Epoch 2/5\n",
            "1875/1875 [==============================] - 41s 22ms/step - loss: 0.3489 - accuracy: 0.8715\n",
            "Epoch 3/5\n",
            "1875/1875 [==============================] - 41s 22ms/step - loss: 0.3015 - accuracy: 0.8872\n",
            "Epoch 4/5\n",
            "1875/1875 [==============================] - 42s 22ms/step - loss: 0.2682 - accuracy: 0.9000\n",
            "Epoch 5/5\n",
            "1875/1875 [==============================] - 41s 22ms/step - loss: 0.2390 - accuracy: 0.9089\n"
          ]
        }
      ]
    },
    {
      "cell_type": "code",
      "metadata": {
        "colab": {
          "base_uri": "https://localhost:8080/"
        },
        "id": "KJ7PQrQA2QlR",
        "outputId": "92d7b95e-3e51-4d9d-c2f6-caceebb09cbf"
      },
      "source": [
        "test_loss, test_acc = model_cnn.evaluate(test_images, test_labels)\n",
        "print(test_acc)"
      ],
      "execution_count": null,
      "outputs": [
        {
          "output_type": "stream",
          "name": "stdout",
          "text": [
            "313/313 [==============================] - 3s 8ms/step - loss: 0.3443 - accuracy: 0.8760\n",
            "0.8759999871253967\n"
          ]
        }
      ]
    }
  ]
}