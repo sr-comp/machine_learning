{
  "nbformat": 4,
  "nbformat_minor": 0,
  "metadata": {
    "colab": {
      "name": "nlp.ipynb",
      "provenance": [],
      "collapsed_sections": []
    },
    "kernelspec": {
      "name": "python3",
      "display_name": "Python 3"
    },
    "language_info": {
      "name": "python"
    }
  },
  "cells": [
    {
      "cell_type": "code",
      "execution_count": null,
      "metadata": {
        "id": "PkD5LZisLAn6"
      },
      "outputs": [],
      "source": [
        "import tensorflow as tf\n",
        "from tensorflow import keras\n",
        "from tensorflow.keras import layers\n",
        "import tensorflow_datasets as tf_data\n",
        "import matplotlib.pyplot as plt\n",
        "tf_data.disable_progress_bar()"
      ]
    },
    {
      "cell_type": "code",
      "source": [
        "embedding_layers = layers.Embedding(100, 5)\n",
        "result = embedding_layers(tf.constant([1, 2, 3]))\n",
        "result.numpy()"
      ],
      "metadata": {
        "colab": {
          "base_uri": "https://localhost:8080/"
        },
        "id": "FCbwsbWtM5OH",
        "outputId": "d2846f1d-741f-463b-c074-d61dfb09fa4c"
      },
      "execution_count": null,
      "outputs": [
        {
          "output_type": "execute_result",
          "data": {
            "text/plain": [
              "array([[ 0.02193327,  0.00177271, -0.0180703 ,  0.00359093,  0.00974892],\n",
              "       [ 0.00775018,  0.00311976, -0.02428354, -0.02471091,  0.04059071],\n",
              "       [-0.00952543, -0.00058565,  0.00099824, -0.01766013, -0.01673805]],\n",
              "      dtype=float32)"
            ]
          },
          "metadata": {},
          "execution_count": 2
        }
      ]
    },
    {
      "cell_type": "code",
      "source": [
        "result = embedding_layers(tf.constant([[0, 1, 2], [3, 4, 5]]))\n",
        "result.shape"
      ],
      "metadata": {
        "colab": {
          "base_uri": "https://localhost:8080/"
        },
        "id": "mwS1qWmgOAiu",
        "outputId": "7c896f0a-ddd6-4401-ed95-a53fd2a2083d"
      },
      "execution_count": null,
      "outputs": [
        {
          "output_type": "execute_result",
          "data": {
            "text/plain": [
              "TensorShape([2, 3, 5])"
            ]
          },
          "metadata": {},
          "execution_count": 4
        }
      ]
    },
    {
      "cell_type": "code",
      "source": [
        "from tensorflow.python.ops.control_flow_ops import with_dependencies\n",
        "(train_data, test_data), info = tf_data.load('imdb_reviews/subwords8k', split=(tf_data.Split.TRAIN, tf_data.Split.TEST), with_info=True, as_supervised=True)\n",
        "(train_data, test_data)"
      ],
      "metadata": {
        "colab": {
          "base_uri": "https://localhost:8080/"
        },
        "id": "VLUFhDwBOeeu",
        "outputId": "dd86b6f7-db6c-4b5a-c65f-12d73bba4482"
      },
      "execution_count": null,
      "outputs": [
        {
          "output_type": "stream",
          "name": "stderr",
          "text": [
            "WARNING:absl:TFDS datasets with text encoding are deprecated and will be removed in a future version. Instead, you should use the plain text version and tokenize the text using `tensorflow_text` (See: https://www.tensorflow.org/tutorials/tensorflow_text/intro#tfdata_example)\n"
          ]
        },
        {
          "output_type": "stream",
          "name": "stdout",
          "text": [
            "\u001b[1mDownloading and preparing dataset imdb_reviews/subwords8k/1.0.0 (download: 80.23 MiB, generated: Unknown size, total: 80.23 MiB) to /root/tensorflow_datasets/imdb_reviews/subwords8k/1.0.0...\u001b[0m\n",
            "Shuffling and writing examples to /root/tensorflow_datasets/imdb_reviews/subwords8k/1.0.0.incompleteTYXFFC/imdb_reviews-train.tfrecord\n",
            "Shuffling and writing examples to /root/tensorflow_datasets/imdb_reviews/subwords8k/1.0.0.incompleteTYXFFC/imdb_reviews-test.tfrecord\n",
            "Shuffling and writing examples to /root/tensorflow_datasets/imdb_reviews/subwords8k/1.0.0.incompleteTYXFFC/imdb_reviews-unsupervised.tfrecord\n"
          ]
        },
        {
          "output_type": "stream",
          "name": "stderr",
          "text": [
            "WARNING:absl:Dataset is using deprecated text encoder API which will be removed soon. Please use the plain_text version of the dataset and migrate to `tensorflow_text`.\n"
          ]
        },
        {
          "output_type": "stream",
          "name": "stdout",
          "text": [
            "\u001b[1mDataset imdb_reviews downloaded and prepared to /root/tensorflow_datasets/imdb_reviews/subwords8k/1.0.0. Subsequent calls will reuse this data.\u001b[0m\n"
          ]
        },
        {
          "output_type": "execute_result",
          "data": {
            "text/plain": [
              "(<PrefetchDataset shapes: ((None,), ()), types: (tf.int64, tf.int64)>,\n",
              " <PrefetchDataset shapes: ((None,), ()), types: (tf.int64, tf.int64)>)"
            ]
          },
          "metadata": {},
          "execution_count": 5
        }
      ]
    },
    {
      "cell_type": "code",
      "source": [
        "encoder = info.features['text'].encoder\n",
        "encoder.subwords[:10]"
      ],
      "metadata": {
        "colab": {
          "base_uri": "https://localhost:8080/"
        },
        "id": "_Sxuku26QKNM",
        "outputId": "c943440b-ed75-470d-f5a1-608721df2831"
      },
      "execution_count": null,
      "outputs": [
        {
          "output_type": "execute_result",
          "data": {
            "text/plain": [
              "['the_', ', ', '. ', 'a_', 'and_', 'of_', 'to_', 's_', 'is_', 'br']"
            ]
          },
          "metadata": {},
          "execution_count": 6
        }
      ]
    },
    {
      "cell_type": "code",
      "source": [
        "padded_shapes = ([None], ())\n",
        "train_batches = train_data.shuffle(1000).padded_batch(10, padded_shapes=padded_shapes)\n",
        "test_batches = test_data.shuffle(1000).padded_batch(10, padded_shapes=padded_shapes)"
      ],
      "metadata": {
        "id": "6X22wo3lQ7fN"
      },
      "execution_count": null,
      "outputs": []
    },
    {
      "cell_type": "code",
      "source": [
        "train_batch, train_label = next(iter(train_batches))\n",
        "train_batch.numpy()"
      ],
      "metadata": {
        "colab": {
          "base_uri": "https://localhost:8080/"
        },
        "id": "BSc_h4yuSROH",
        "outputId": "5458438f-5a60-4f5d-fca9-a97bd2e0f99a"
      },
      "execution_count": null,
      "outputs": [
        {
          "output_type": "execute_result",
          "data": {
            "text/plain": [
              "array([[ 373,  728,   23, ...,    0,    0,    0],\n",
              "       [6111, 7541,   47, ...,    0,    0,    0],\n",
              "       [  12,  270,   13, ...,    0,    0,    0],\n",
              "       ...,\n",
              "       [ 884, 2142, 4488, ...,    0,    0,    0],\n",
              "       [ 977,   12,  174, ...,  208, 2564, 7975],\n",
              "       [ 809,  110,  121, ...,    0,    0,    0]])"
            ]
          },
          "metadata": {},
          "execution_count": 8
        }
      ]
    },
    {
      "cell_type": "code",
      "source": [
        "embedding_dim = 16\n",
        "\n",
        "# Build neural network\n",
        "model = keras.Sequential()\n",
        "model.add(layers.Embedding(encoder.vocab_size, embedding_dim))\n",
        "model.add(layers.GlobalAveragePooling1D())\n",
        "model.add(layers.Dense(16, activation='relu'))\n",
        "model.add(layers.Dense(1))\n",
        "model.summary()"
      ],
      "metadata": {
        "colab": {
          "base_uri": "https://localhost:8080/"
        },
        "id": "eAHvx9ZcSn-t",
        "outputId": "6fce08f3-8969-4051-e6fb-d524bb791abd"
      },
      "execution_count": null,
      "outputs": [
        {
          "output_type": "stream",
          "name": "stdout",
          "text": [
            "Model: \"sequential\"\n",
            "_________________________________________________________________\n",
            " Layer (type)                Output Shape              Param #   \n",
            "=================================================================\n",
            " embedding_1 (Embedding)     (None, None, 16)          130960    \n",
            "                                                                 \n",
            " global_average_pooling1d (G  (None, 16)               0         \n",
            " lobalAveragePooling1D)                                          \n",
            "                                                                 \n",
            " dense (Dense)               (None, 16)                272       \n",
            "                                                                 \n",
            " dense_1 (Dense)             (None, 1)                 17        \n",
            "                                                                 \n",
            "=================================================================\n",
            "Total params: 131,249\n",
            "Trainable params: 131,249\n",
            "Non-trainable params: 0\n",
            "_________________________________________________________________\n"
          ]
        }
      ]
    },
    {
      "cell_type": "code",
      "source": [
        "# Compile model\n",
        "model.compile(optimizer='adam',\n",
        "              loss=tf.keras.losses.BinaryCrossentropy(from_logits=True),\n",
        "              metrics=['accuracy'])"
      ],
      "metadata": {
        "id": "aUhM9i0VVMwO"
      },
      "execution_count": null,
      "outputs": []
    },
    {
      "cell_type": "code",
      "source": [
        "# Train model\n",
        "history = model.fit(train_batches,epochs=10, validation_data=test_batches, validation_steps=20)"
      ],
      "metadata": {
        "colab": {
          "base_uri": "https://localhost:8080/"
        },
        "id": "OzliKAO6V2sz",
        "outputId": "a5e9c813-e274-46a9-b9fa-084ec588bf11"
      },
      "execution_count": null,
      "outputs": [
        {
          "output_type": "stream",
          "name": "stdout",
          "text": [
            "Epoch 1/10\n",
            "2500/2500 [==============================] - 15s 5ms/step - loss: 0.5098 - accuracy: 0.6921 - val_loss: 0.3215 - val_accuracy: 0.8700\n",
            "Epoch 2/10\n",
            "2500/2500 [==============================] - 13s 5ms/step - loss: 0.2866 - accuracy: 0.8833 - val_loss: 0.3846 - val_accuracy: 0.8500\n",
            "Epoch 3/10\n",
            "2500/2500 [==============================] - 14s 5ms/step - loss: 0.2324 - accuracy: 0.9111 - val_loss: 0.3931 - val_accuracy: 0.8350\n",
            "Epoch 4/10\n",
            "2500/2500 [==============================] - 20s 8ms/step - loss: 0.1996 - accuracy: 0.9238 - val_loss: 0.4087 - val_accuracy: 0.8650\n",
            "Epoch 5/10\n",
            "2500/2500 [==============================] - 19s 8ms/step - loss: 0.1805 - accuracy: 0.9320 - val_loss: 0.4885 - val_accuracy: 0.8200\n",
            "Epoch 6/10\n",
            "2500/2500 [==============================] - 14s 5ms/step - loss: 0.1617 - accuracy: 0.9397 - val_loss: 0.4019 - val_accuracy: 0.8850\n",
            "Epoch 7/10\n",
            "2500/2500 [==============================] - 14s 6ms/step - loss: 0.1466 - accuracy: 0.9449 - val_loss: 0.3759 - val_accuracy: 0.8900\n",
            "Epoch 8/10\n",
            "2500/2500 [==============================] - 14s 5ms/step - loss: 0.1340 - accuracy: 0.9506 - val_loss: 0.3864 - val_accuracy: 0.8900\n",
            "Epoch 9/10\n",
            "2500/2500 [==============================] - 14s 6ms/step - loss: 0.1204 - accuracy: 0.9574 - val_loss: 0.6814 - val_accuracy: 0.8050\n",
            "Epoch 10/10\n",
            "2500/2500 [==============================] - 17s 7ms/step - loss: 0.1132 - accuracy: 0.9596 - val_loss: 0.6604 - val_accuracy: 0.8350\n"
          ]
        }
      ]
    },
    {
      "cell_type": "code",
      "source": [
        "history_dict = history.history\n",
        "acc = history_dict['accuracy']\n",
        "val_acc = history_dict['val_accuracy']\n",
        "loss = history_dict['loss']\n",
        "val_loss = history_dict['val_loss']\n",
        "epochs = range(1, len(acc)+1)"
      ],
      "metadata": {
        "id": "XARCA7A6aPEC"
      },
      "execution_count": null,
      "outputs": []
    },
    {
      "cell_type": "code",
      "source": [
        "plt.plot(epochs, acc, label='train acc')\n",
        "plt.plot(epochs, val_acc, label='validation acc')\n",
        "plt.title('Accuracy')\n",
        "plt.xlabel('pochs')\n",
        "plt.ylabel('acc')\n",
        "plt.legend()"
      ],
      "metadata": {
        "colab": {
          "base_uri": "https://localhost:8080/",
          "height": 312
        },
        "id": "RnFz02V7XZW9",
        "outputId": "ae89af90-6c75-4f92-ca96-6c88c17237b9"
      },
      "execution_count": null,
      "outputs": [
        {
          "output_type": "execute_result",
          "data": {
            "text/plain": [
              "<matplotlib.legend.Legend at 0x7f865fb993d0>"
            ]
          },
          "metadata": {},
          "execution_count": 23
        },
        {
          "output_type": "display_data",
          "data": {
            "image/png": "[encoded data removed]",
            "text/plain": [
              "<Figure size 432x288 with 1 Axes>"
            ]
          },
          "metadata": {
            "needs_background": "light"
          }
        }
      ]
    },
    {
      "cell_type": "code",
      "source": [
        "plt.plot(epochs, loss, label='train loss')\n",
        "plt.plot(epochs, val_loss, label='validation loss')\n",
        "plt.title('Loss')\n",
        "plt.xlabel('epochs')\n",
        "plt.ylabel('loss')\n",
        "plt.legend()"
      ],
      "metadata": {
        "colab": {
          "base_uri": "https://localhost:8080/",
          "height": 312
        },
        "id": "0kptBLh1aFSE",
        "outputId": "ea651d8d-03b9-4827-a5da-3e6586b53e7e"
      },
      "execution_count": null,
      "outputs": [
        {
          "output_type": "execute_result",
          "data": {
            "text/plain": [
              "<matplotlib.legend.Legend at 0x7f866328e990>"
            ]
          },
          "metadata": {},
          "execution_count": 24
        },
        {
          "output_type": "display_data",
          "data": {
            "image/png": "[encoded data removed]",
            "text/plain": [
              "<Figure size 432x288 with 1 Axes>"
            ]
          },
          "metadata": {
            "needs_background": "light"
          }
        }
      ]
    }
  ]
}