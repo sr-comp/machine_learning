{
  "nbformat": 4,
  "nbformat_minor": 0,
  "metadata": {
    "colab": {
      "name": "convolutional_autoencoder.ipynb",
      "provenance": []
    },
    "kernelspec": {
      "name": "python3",
      "display_name": "Python 3"
    },
    "language_info": {
      "name": "python"
    }
  },
  "cells": [
    {
      "cell_type": "code",
      "execution_count": 1,
      "metadata": {
        "id": "9Dv3Fwct4EdS"
      },
      "outputs": [],
      "source": [
        "import numpy as np\n",
        "from keras.layers import Input, Conv2D, MaxPooling2D, UpSampling2D\n",
        "from keras.models import Model\n",
        "from keras.datasets import mnist"
      ]
    },
    {
      "cell_type": "code",
      "source": [
        "(X_train, _), (X_test, _) = mnist.load_data()"
      ],
      "metadata": {
        "colab": {
          "base_uri": "https://localhost:8080/"
        },
        "id": "4Vs1NCJb84zQ",
        "outputId": "430659f0-3d62-4aee-985e-7c953eff1681"
      },
      "execution_count": 3,
      "outputs": [
        {
          "output_type": "stream",
          "name": "stdout",
          "text": [
            "Downloading data from https://storage.googleapis.com/tensorflow/tf-keras-datasets/mnist.npz\n",
            "11493376/11490434 [==============================] - 0s 0us/step\n",
            "11501568/11490434 [==============================] - 0s 0us/step\n"
          ]
        }
      ]
    },
    {
      "cell_type": "code",
      "source": [
        "X_train = X_train.astype('float32') / 255\n",
        "X_test = X_test.astype('float32') / 255\n",
        "X_train = np.reshape(X_train, (len(X_train), 28, 28, 1))\n",
        "X_test = np.reshape(X_test, (len(X_test), 28, 28, 1))"
      ],
      "metadata": {
        "id": "V_yE3S9i9dJv"
      },
      "execution_count": 4,
      "outputs": []
    },
    {
      "cell_type": "code",
      "source": [
        "input_img = Input(shape=(28, 28, 1))\n",
        "\n",
        "# encoding\n",
        "x = Conv2D(16, (3,3), activation='relu', padding='same')(input_img)\n",
        "x = MaxPooling2D((2,2), padding='same')(x)\n",
        "x = Conv2D(8, (3,3), activation='relu', padding='same')(x)\n",
        "x = MaxPooling2D((2,2), padding='same')(x)\n",
        "x = Conv2D(8, (3,3), activation='relu', padding='same')(x)\n",
        "encoded = MaxPooling2D((2,2), padding='same')(x)\n",
        "\n",
        "# decoding\n",
        "x = Conv2D(8, (3,3), activation='relu', padding='same')(encoded)\n",
        "x = UpSampling2D((2,2))(x)\n",
        "x = Conv2D(8, (3,3), activation='relu', padding='same')(x)\n",
        "x = UpSampling2D((2,2))(x)\n",
        "x = Conv2D(16, (3,3), activation='relu')(x)\n",
        "x = UpSampling2D((2,2))(x)\n",
        "decoded = Conv2D(1, (3,3), activation='sigmoid',padding='same')(x)\n"
      ],
      "metadata": {
        "id": "07K2eKjq-4J3"
      },
      "execution_count": 5,
      "outputs": []
    },
    {
      "cell_type": "code",
      "source": [
        "autoencoder = Model(input_img, decoded)"
      ],
      "metadata": {
        "id": "0le5IuhnBE1o"
      },
      "execution_count": 6,
      "outputs": []
    },
    {
      "cell_type": "code",
      "source": [
        "autoencoder.summary()"
      ],
      "metadata": {
        "colab": {
          "base_uri": "https://localhost:8080/"
        },
        "id": "NAlLmAmZBGdG",
        "outputId": "f0ac63c2-3a83-43b9-da44-3a8721da2610"
      },
      "execution_count": 8,
      "outputs": [
        {
          "output_type": "stream",
          "name": "stdout",
          "text": [
            "Model: \"model\"\n",
            "_________________________________________________________________\n",
            " Layer (type)                Output Shape              Param #   \n",
            "=================================================================\n",
            " input_1 (InputLayer)        [(None, 28, 28, 1)]       0         \n",
            "                                                                 \n",
            " conv2d (Conv2D)             (None, 28, 28, 16)        160       \n",
            "                                                                 \n",
            " max_pooling2d (MaxPooling2D  (None, 14, 14, 16)       0         \n",
            " )                                                               \n",
            "                                                                 \n",
            " conv2d_1 (Conv2D)           (None, 14, 14, 8)         1160      \n",
            "                                                                 \n",
            " max_pooling2d_1 (MaxPooling  (None, 7, 7, 8)          0         \n",
            " 2D)                                                             \n",
            "                                                                 \n",
            " conv2d_2 (Conv2D)           (None, 7, 7, 8)           584       \n",
            "                                                                 \n",
            " max_pooling2d_2 (MaxPooling  (None, 4, 4, 8)          0         \n",
            " 2D)                                                             \n",
            "                                                                 \n",
            " conv2d_3 (Conv2D)           (None, 4, 4, 8)           584       \n",
            "                                                                 \n",
            " up_sampling2d (UpSampling2D  (None, 8, 8, 8)          0         \n",
            " )                                                               \n",
            "                                                                 \n",
            " conv2d_4 (Conv2D)           (None, 8, 8, 8)           584       \n",
            "                                                                 \n",
            " up_sampling2d_1 (UpSampling  (None, 16, 16, 8)        0         \n",
            " 2D)                                                             \n",
            "                                                                 \n",
            " conv2d_5 (Conv2D)           (None, 14, 14, 16)        1168      \n",
            "                                                                 \n",
            " up_sampling2d_2 (UpSampling  (None, 28, 28, 16)       0         \n",
            " 2D)                                                             \n",
            "                                                                 \n",
            " conv2d_6 (Conv2D)           (None, 28, 28, 1)         145       \n",
            "                                                                 \n",
            "=================================================================\n",
            "Total params: 4,385\n",
            "Trainable params: 4,385\n",
            "Non-trainable params: 0\n",
            "_________________________________________________________________\n"
          ]
        }
      ]
    },
    {
      "cell_type": "code",
      "source": [
        "autoencoder.compile(optimizer='adam', loss='binary_crossentropy')"
      ],
      "metadata": {
        "id": "Gg9r2xdxBwM1"
      },
      "execution_count": 9,
      "outputs": []
    },
    {
      "cell_type": "code",
      "source": [
        "autoencoder.fit(X_train, X_train, epochs=10, batch_size=128, validation_data=(X_test, X_test))"
      ],
      "metadata": {
        "colab": {
          "base_uri": "https://localhost:8080/"
        },
        "id": "7fRFPRxAB4_P",
        "outputId": "3734f721-b3c1-45ab-f12e-4a715d30cf0d"
      },
      "execution_count": 10,
      "outputs": [
        {
          "output_type": "stream",
          "name": "stdout",
          "text": [
            "Epoch 1/10\n",
            "469/469 [==============================] - 75s 157ms/step - loss: 0.2206 - val_loss: 0.1512\n",
            "Epoch 2/10\n",
            "469/469 [==============================] - 73s 155ms/step - loss: 0.1403 - val_loss: 0.1321\n",
            "Epoch 3/10\n",
            "469/469 [==============================] - 73s 156ms/step - loss: 0.1285 - val_loss: 0.1242\n",
            "Epoch 4/10\n",
            "469/469 [==============================] - 73s 156ms/step - loss: 0.1221 - val_loss: 0.1188\n",
            "Epoch 5/10\n",
            "469/469 [==============================] - 73s 156ms/step - loss: 0.1180 - val_loss: 0.1152\n",
            "Epoch 6/10\n",
            "469/469 [==============================] - 74s 158ms/step - loss: 0.1150 - val_loss: 0.1126\n",
            "Epoch 7/10\n",
            "469/469 [==============================] - 73s 157ms/step - loss: 0.1126 - val_loss: 0.1102\n",
            "Epoch 8/10\n",
            "469/469 [==============================] - 74s 157ms/step - loss: 0.1107 - val_loss: 0.1086\n",
            "Epoch 9/10\n",
            "469/469 [==============================] - 75s 159ms/step - loss: 0.1091 - val_loss: 0.1082\n",
            "Epoch 10/10\n",
            "469/469 [==============================] - 76s 162ms/step - loss: 0.1077 - val_loss: 0.1064\n"
          ]
        },
        {
          "output_type": "execute_result",
          "data": {
            "text/plain": [
              "<keras.callbacks.History at 0x7fea54b494d0>"
            ]
          },
          "metadata": {},
          "execution_count": 10
        }
      ]
    },
    {
      "cell_type": "code",
      "source": [
        "imgs_pred = autoencoder.predict(X_test)"
      ],
      "metadata": {
        "id": "Z3UpV6d0FUnU"
      },
      "execution_count": 11,
      "outputs": []
    },
    {
      "cell_type": "code",
      "source": [
        "import matplotlib.pyplot as plt\n",
        "n = 10\n",
        "plt.figure(figsize=(20, 4))\n",
        "for i in range(n):\n",
        "  # display original\n",
        "  ax = plt.subplot(2, n, i+1)\n",
        "  plt.imshow(X_test[i].reshape(28, 28))\n",
        "  plt.gray()\n",
        "  ax.get_xaxis().set_visible(False)\n",
        "  ax.get_yaxis().set_visible(False)\n",
        "\n",
        "  # display reconstruction or noisy \n",
        "  ax = plt.subplot(2, n, i+1+n)\n",
        "  plt.imshow(imgs_pred[i].reshape(28, 28))\n",
        "  plt.gray()\n",
        "  ax.get_xaxis().set_visible(False)\n",
        "  ax.get_yaxis().set_visible(False)"
      ],
      "metadata": {
        "colab": {
          "base_uri": "https://localhost:8080/",
          "height": 248
        },
        "id": "bkFaZiCyFU6j",
        "outputId": "e39a05ea-1820-418d-e7c2-e5457d2f10c2"
      },
      "execution_count": 13,
      "outputs": [
        {
          "output_type": "display_data",
          "data": {
            "image/png": "[encoded data removed]",
            "text/plain": [
              "<Figure size 1440x288 with 20 Axes>"
            ]
          },
          "metadata": {
            "needs_background": "light"
          }
        }
      ]
    }
  ]
}