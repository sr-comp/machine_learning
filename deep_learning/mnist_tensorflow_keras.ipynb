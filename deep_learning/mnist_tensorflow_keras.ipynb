{
  "nbformat": 4,
  "nbformat_minor": 0,
  "metadata": {
    "colab": {
      "name": "mnist_tensorflow_keras",
      "provenance": [],
      "collapsed_sections": []
    },
    "kernelspec": {
      "name": "python3",
      "display_name": "Python 3"
    },
    "language_info": {
      "name": "python"
    },
    "accelerator": "GPU"
  },
  "cells": [
    {
      "cell_type": "code",
      "metadata": {
        "id": "XAQoUArFlcUA"
      },
      "source": [
        "from tensorflow import keras\n",
        "import matplotlib.pyplot as plt"
      ],
      "execution_count": null,
      "outputs": []
    },
    {
      "cell_type": "code",
      "metadata": {
        "id": "G0Y6X-kxl54X"
      },
      "source": [
        "(train_images, train_labels), (test_images, test_labels) = keras.datasets.mnist.load_data()"
      ],
      "execution_count": null,
      "outputs": []
    },
    {
      "cell_type": "code",
      "metadata": {
        "colab": {
          "base_uri": "https://localhost:8080/"
        },
        "id": "uD1upx4Omr-O",
        "outputId": "0198cbc1-a3f9-42f3-d7d6-b6ead84fea56"
      },
      "source": [
        "train_images.shape"
      ],
      "execution_count": null,
      "outputs": [
        {
          "output_type": "execute_result",
          "data": {
            "text/plain": [
              "(60000, 28, 28)"
            ]
          },
          "metadata": {},
          "execution_count": 3
        }
      ]
    },
    {
      "cell_type": "code",
      "metadata": {
        "colab": {
          "base_uri": "https://localhost:8080/"
        },
        "id": "v6k3I20fnBA-",
        "outputId": "8d00b2f8-27a5-4de1-b342-49f6a5a034ba"
      },
      "source": [
        "len(train_labels)"
      ],
      "execution_count": null,
      "outputs": [
        {
          "output_type": "execute_result",
          "data": {
            "text/plain": [
              "60000"
            ]
          },
          "metadata": {},
          "execution_count": 4
        }
      ]
    },
    {
      "cell_type": "code",
      "metadata": {
        "colab": {
          "base_uri": "https://localhost:8080/"
        },
        "id": "cITGQNcTmzw_",
        "outputId": "43dd61ff-659d-456c-a8e7-241e1cda8b50"
      },
      "source": [
        "train_labels"
      ],
      "execution_count": null,
      "outputs": [
        {
          "output_type": "execute_result",
          "data": {
            "text/plain": [
              "array([5, 0, 4, ..., 5, 6, 8], dtype=uint8)"
            ]
          },
          "metadata": {},
          "execution_count": 5
        }
      ]
    },
    {
      "cell_type": "code",
      "metadata": {
        "colab": {
          "base_uri": "https://localhost:8080/",
          "height": 159
        },
        "id": "0dZ7dpEnorO5",
        "outputId": "03bba393-f99f-435d-c36c-0df486d8089f"
      },
      "source": [
        "digit = train_images[0]\n",
        "plt.figure(figsize=(2,2))\n",
        "plt.imshow(digit, cmap=plt.cm.binary)\n",
        "plt.show()"
      ],
      "execution_count": null,
      "outputs": [
        {
          "output_type": "display_data",
          "data": {
            "image/png": "[encoded data removed]",
            "text/plain": [
              "<Figure size 144x144 with 1 Axes>"
            ]
          },
          "metadata": {
            "needs_background": "light"
          }
        }
      ]
    },
    {
      "cell_type": "code",
      "metadata": {
        "colab": {
          "base_uri": "https://localhost:8080/",
          "height": 428
        },
        "id": "oqZF_lGSpbwh",
        "outputId": "5bc50073-5588-4273-8789-9c222e66947a"
      },
      "source": [
        "plt.figure(figsize=(6,6))\n",
        "for i in range(9):\n",
        "  plt.subplot(3,3,i+1)\n",
        "  plt.tight_layout()\n",
        "  plt.imshow(train_images[i], cmap='gray', interpolation='none')\n",
        "  plt.title(\"Digit: {}\".format(train_labels[i]))\n",
        "  plt.xticks([])\n",
        "  plt.yticks([])"
      ],
      "execution_count": null,
      "outputs": [
        {
          "output_type": "display_data",
          "data": {
            "image/png": "[encoded data removed]",
            "text/plain": [
              "<Figure size 432x432 with 9 Axes>"
            ]
          },
          "metadata": {}
        }
      ]
    },
    {
      "cell_type": "code",
      "metadata": {
        "id": "K6BCkMR7szsB"
      },
      "source": [
        "# Preparing the image data\n",
        "train_images = train_images.reshape((60000, 28 * 28))\n",
        "train_images = train_images.astype('float32') / 255\n",
        "test_images = test_images.reshape((10000, 28 * 28))\n",
        "test_images = test_images.astype('float32') / 255"
      ],
      "execution_count": null,
      "outputs": []
    },
    {
      "cell_type": "code",
      "metadata": {
        "colab": {
          "base_uri": "https://localhost:8080/"
        },
        "id": "ySYpPcNxs93P",
        "outputId": "0c9f05df-6bd8-4613-8817-d27ac7359c55"
      },
      "source": [
        "train_images.shape"
      ],
      "execution_count": null,
      "outputs": [
        {
          "output_type": "execute_result",
          "data": {
            "text/plain": [
              "(60000, 784)"
            ]
          },
          "metadata": {},
          "execution_count": 9
        }
      ]
    },
    {
      "cell_type": "code",
      "metadata": {
        "id": "QZEtPlStuVc_"
      },
      "source": [
        "# Preparing the labels\n",
        "from tensorflow.keras.utils import to_categorical\n",
        "train_labels = to_categorical(train_labels)\n",
        "test_labels = to_categorical(test_labels)"
      ],
      "execution_count": null,
      "outputs": []
    },
    {
      "cell_type": "markdown",
      "metadata": {
        "id": "21YtywImirIu"
      },
      "source": [
        "# Sequential API"
      ]
    },
    {
      "cell_type": "code",
      "metadata": {
        "id": "VmivM9RovE-K"
      },
      "source": [
        "# The network architecture\n",
        "seq_model = keras.models.Sequential()\n",
        "seq_model.add(keras.layers.Dense(512, activation='relu',input_shape=(28 * 28,)))\n",
        "seq_model.add(keras.layers.Dense(128, activation='relu'))\n",
        "seq_model.add(keras.layers.Dense(10, activation='softmax'))"
      ],
      "execution_count": null,
      "outputs": []
    },
    {
      "cell_type": "code",
      "metadata": {
        "colab": {
          "base_uri": "https://localhost:8080/",
          "height": 621
        },
        "id": "1SsPWYTKdrv0",
        "outputId": "45d8fe6f-9151-4e0e-c5ea-09ad6885d66a"
      },
      "source": [
        "from tensorflow.keras.utils import plot_model\n",
        "seq_model.summary()\n",
        "plot_model(seq_model,to_file='sequential_spi.png')"
      ],
      "execution_count": null,
      "outputs": [
        {
          "output_type": "stream",
          "name": "stdout",
          "text": [
            "Model: \"sequential\"\n",
            "_________________________________________________________________\n",
            " Layer (type)                Output Shape              Param #   \n",
            "=================================================================\n",
            " dense (Dense)               (None, 512)               401920    \n",
            "                                                                 \n",
            " dense_1 (Dense)             (None, 128)               65664     \n",
            "                                                                 \n",
            " dense_2 (Dense)             (None, 10)                1290      \n",
            "                                                                 \n",
            "=================================================================\n",
            "Total params: 468,874\n",
            "Trainable params: 468,874\n",
            "Non-trainable params: 0\n",
            "_________________________________________________________________\n"
          ]
        },
        {
          "output_type": "execute_result",
          "data": {
            "image/png": "[encoded data removed]",
            "text/plain": [
              "<IPython.core.display.Image object>"
            ]
          },
          "metadata": {},
          "execution_count": 12
        }
      ]
    },
    {
      "cell_type": "code",
      "metadata": {
        "id": "fJnDH-QyfsrU"
      },
      "source": [
        "# The compilation step\n",
        "seq_model.compile(optimizer='rmsprop', loss='categorical_crossentropy', metrics=['accuracy'])"
      ],
      "execution_count": null,
      "outputs": []
    },
    {
      "cell_type": "code",
      "metadata": {
        "colab": {
          "base_uri": "https://localhost:8080/"
        },
        "id": "Z5xIXK-ggJh7",
        "outputId": "d615ca08-87e4-426a-ad25-b280a9e2f8bd"
      },
      "source": [
        "# The training step\n",
        "seq_history = seq_model.fit(train_images, train_labels, validation_data = (test_images, test_labels), epochs=5, batch_size=128)"
      ],
      "execution_count": null,
      "outputs": [
        {
          "output_type": "stream",
          "name": "stdout",
          "text": [
            "Epoch 1/5\n",
            "469/469 [==============================] - 4s 6ms/step - loss: 0.2285 - accuracy: 0.9313 - val_loss: 0.1346 - val_accuracy: 0.9566\n",
            "Epoch 2/5\n",
            "469/469 [==============================] - 2s 5ms/step - loss: 0.0873 - accuracy: 0.9729 - val_loss: 0.0746 - val_accuracy: 0.9771\n",
            "Epoch 3/5\n",
            "469/469 [==============================] - 2s 5ms/step - loss: 0.0561 - accuracy: 0.9825 - val_loss: 0.0713 - val_accuracy: 0.9774\n",
            "Epoch 4/5\n",
            "469/469 [==============================] - 2s 5ms/step - loss: 0.0408 - accuracy: 0.9877 - val_loss: 0.0687 - val_accuracy: 0.9800\n",
            "Epoch 5/5\n",
            "469/469 [==============================] - 2s 5ms/step - loss: 0.0297 - accuracy: 0.9911 - val_loss: 0.0726 - val_accuracy: 0.9809\n"
          ]
        }
      ]
    },
    {
      "cell_type": "code",
      "metadata": {
        "colab": {
          "base_uri": "https://localhost:8080/"
        },
        "id": "dB4_iKMqnLfo",
        "outputId": "d218f773-b71f-4d9b-a02e-5fd50fb198a1"
      },
      "source": [
        "# The testing step\n",
        "test_loss, test_acc = seq_model.evaluate(test_images, test_labels)\n",
        "print('test_acc:', test_acc)\n",
        "print('test_loss:', test_loss)"
      ],
      "execution_count": null,
      "outputs": [
        {
          "output_type": "stream",
          "name": "stdout",
          "text": [
            "313/313 [==============================] - 1s 3ms/step - loss: 0.0726 - accuracy: 0.9809\n",
            "test_acc: 0.98089998960495\n",
            "test_loss: 0.07264049351215363\n"
          ]
        }
      ]
    },
    {
      "cell_type": "code",
      "metadata": {
        "colab": {
          "base_uri": "https://localhost:8080/",
          "height": 295
        },
        "id": "Xa8QopBpy603",
        "outputId": "a7e05b87-b30d-415f-a30b-cd65ec8461a8"
      },
      "source": [
        "plt.plot(seq_history.history['accuracy'])\n",
        "plt.plot(seq_history.history['val_accuracy'])\n",
        "plt.title('Model accuracy')\n",
        "plt.ylabel('Accuracy')\n",
        "plt.xlabel('Epoch')\n",
        "plt.legend(['Train', 'Test'], loc='upper left')\n",
        "plt.show()"
      ],
      "execution_count": null,
      "outputs": [
        {
          "output_type": "display_data",
          "data": {
            "image/png": "[encoded data removed]",
            "text/plain": [
              "<Figure size 432x288 with 1 Axes>"
            ]
          },
          "metadata": {
            "needs_background": "light"
          }
        }
      ]
    },
    {
      "cell_type": "code",
      "metadata": {
        "colab": {
          "base_uri": "https://localhost:8080/",
          "height": 295
        },
        "id": "jmUV1-MGzHWY",
        "outputId": "719a1f37-ed78-4360-fdf0-d1a01d77b473"
      },
      "source": [
        "plt.plot(seq_history.history['loss'])\n",
        "plt.plot(seq_history.history['val_loss'])\n",
        "plt.title('Model loss’')\n",
        "plt.ylabel('Accuracy')\n",
        "plt.xlabel('Loss')\n",
        "plt.legend(['Train', 'Test'], loc='upper left')\n",
        "plt.show()"
      ],
      "execution_count": null,
      "outputs": [
        {
          "output_type": "display_data",
          "data": {
            "image/png": "[encoded data removed]",
            "text/plain": [
              "<Figure size 432x288 with 1 Axes>"
            ]
          },
          "metadata": {
            "needs_background": "light"
          }
        }
      ]
    },
    {
      "cell_type": "markdown",
      "metadata": {
        "id": "DodGk4U4i24L"
      },
      "source": [
        "# Functional API"
      ]
    },
    {
      "cell_type": "code",
      "metadata": {
        "id": "BED37naSjKaT"
      },
      "source": [
        "# The network architecture\n",
        "input_layer = keras.layers.Input(shape=(28 * 28,))\n",
        "Layer_1 = keras.layers.Dense(512, activation=\"relu\")(input_layer)\n",
        "Layer_2 = keras.layers.Dense(128, activation=\"relu\")(Layer_1)\n",
        "output_layer= keras.layers.Dense(10, activation=\"softmax\")(Layer_2)"
      ],
      "execution_count": null,
      "outputs": []
    },
    {
      "cell_type": "code",
      "metadata": {
        "id": "jP81LQTelOHt"
      },
      "source": [
        "# Defining the model by specifying the input and output layers\n",
        "func_model = keras.models.Model(inputs=input_layer, outputs=output_layer)"
      ],
      "execution_count": null,
      "outputs": []
    },
    {
      "cell_type": "code",
      "metadata": {
        "colab": {
          "base_uri": "https://localhost:8080/",
          "height": 654
        },
        "id": "g1dJAjyHlvSk",
        "outputId": "6ca2dae8-bd12-4e8d-f7f6-d19388bff83f"
      },
      "source": [
        "func_model.summary()\n",
        "plot_model(func_model,to_file='functional_api.png')"
      ],
      "execution_count": null,
      "outputs": [
        {
          "output_type": "stream",
          "name": "stdout",
          "text": [
            "Model: \"model\"\n",
            "_________________________________________________________________\n",
            " Layer (type)                Output Shape              Param #   \n",
            "=================================================================\n",
            " input_1 (InputLayer)        [(None, 784)]             0         \n",
            "                                                                 \n",
            " dense_3 (Dense)             (None, 512)               401920    \n",
            "                                                                 \n",
            " dense_4 (Dense)             (None, 128)               65664     \n",
            "                                                                 \n",
            " dense_5 (Dense)             (None, 10)                1290      \n",
            "                                                                 \n",
            "=================================================================\n",
            "Total params: 468,874\n",
            "Trainable params: 468,874\n",
            "Non-trainable params: 0\n",
            "_________________________________________________________________\n"
          ]
        },
        {
          "output_type": "execute_result",
          "data": {
            "image/png": "[encoded data removed]",
            "text/plain": [
              "<IPython.core.display.Image object>"
            ]
          },
          "metadata": {},
          "execution_count": 20
        }
      ]
    },
    {
      "cell_type": "code",
      "metadata": {
        "id": "AO8l06vBkyQM"
      },
      "source": [
        "# The compilation step\n",
        "func_model.compile(optimizer='rmsprop', loss='categorical_crossentropy', metrics=['accuracy'])"
      ],
      "execution_count": null,
      "outputs": []
    },
    {
      "cell_type": "code",
      "metadata": {
        "colab": {
          "base_uri": "https://localhost:8080/"
        },
        "id": "9vXLrCRAli2B",
        "outputId": "afa7574f-6967-48e4-a224-60f647b60eaf"
      },
      "source": [
        "# The training step\n",
        "func_model.fit(train_images, train_labels, validation_data = (test_images, test_labels), epochs=5, batch_size=128)"
      ],
      "execution_count": null,
      "outputs": [
        {
          "output_type": "stream",
          "name": "stdout",
          "text": [
            "Epoch 1/5\n",
            "469/469 [==============================] - 3s 6ms/step - loss: 0.2312 - accuracy: 0.9309 - val_loss: 0.1120 - val_accuracy: 0.9642\n",
            "Epoch 2/5\n",
            "469/469 [==============================] - 2s 5ms/step - loss: 0.0858 - accuracy: 0.9736 - val_loss: 0.0807 - val_accuracy: 0.9759\n",
            "Epoch 3/5\n",
            "469/469 [==============================] - 2s 5ms/step - loss: 0.0562 - accuracy: 0.9825 - val_loss: 0.0679 - val_accuracy: 0.9803\n",
            "Epoch 4/5\n",
            "469/469 [==============================] - 2s 5ms/step - loss: 0.0399 - accuracy: 0.9873 - val_loss: 0.0718 - val_accuracy: 0.9792\n",
            "Epoch 5/5\n",
            "469/469 [==============================] - 2s 5ms/step - loss: 0.0303 - accuracy: 0.9905 - val_loss: 0.0637 - val_accuracy: 0.9821\n"
          ]
        },
        {
          "output_type": "execute_result",
          "data": {
            "text/plain": [
              "<keras.callbacks.History at 0x7fa000353e10>"
            ]
          },
          "metadata": {},
          "execution_count": 22
        }
      ]
    },
    {
      "cell_type": "code",
      "metadata": {
        "colab": {
          "base_uri": "https://localhost:8080/"
        },
        "id": "yGsdEfoQlqDY",
        "outputId": "0ee05d37-7576-4d01-ac44-118cc4d7593b"
      },
      "source": [
        "# The testing step\n",
        "test_loss, test_acc = func_model.evaluate(test_images, test_labels)\n",
        "print('test_acc:', test_acc)\n",
        "print('test_loss:', test_loss)"
      ],
      "execution_count": null,
      "outputs": [
        {
          "output_type": "stream",
          "name": "stdout",
          "text": [
            "313/313 [==============================] - 1s 3ms/step - loss: 0.0637 - accuracy: 0.9821\n",
            "test_acc: 0.9821000099182129\n",
            "test_loss: 0.06370143592357635\n"
          ]
        }
      ]
    },
    {
      "cell_type": "markdown",
      "metadata": {
        "id": "OrmwbVKHq8uM"
      },
      "source": [
        "# Model Subclassing API"
      ]
    },
    {
      "cell_type": "code",
      "metadata": {
        "id": "SuF7I9PhrCSz"
      },
      "source": [
        "class ModelSubClassing(keras.Model):\n",
        "    def __init__(self):\n",
        "      super(ModelSubClassing, self).__init__()\n",
        "      self.dense1=keras.layers.Dense(512, activation='relu',input_shape=(28 * 28,))\n",
        "      self.dense2=keras.layers.Dense(128, activation='relu')\n",
        "      self.dense3=keras.layers.Dense(10, activation='softmax')\n",
        "\n",
        "    def call(self, input_tensor):\n",
        "      x1 = self.dense1(input_tensor)\n",
        "      x2 = self.dense2(x1)\n",
        "      return self.dense3(x2)"
      ],
      "execution_count": null,
      "outputs": []
    },
    {
      "cell_type": "code",
      "metadata": {
        "id": "BAYiAhpnuRBM"
      },
      "source": [
        "# The compilation step \n",
        "sub_classing_model = ModelSubClassing()\n",
        "sub_classing_model.compile(optimizer='rmsprop', loss='categorical_crossentropy', metrics=['accuracy'])"
      ],
      "execution_count": null,
      "outputs": []
    },
    {
      "cell_type": "code",
      "metadata": {
        "colab": {
          "base_uri": "https://localhost:8080/"
        },
        "id": "TADpvB7l2_dm",
        "outputId": "909f2b69-62bb-4372-e290-5c7a57f085ff"
      },
      "source": [
        "# The training step\n",
        "sub_classing_model.fit(train_images, train_labels, validation_data = (test_images, test_labels), epochs=5, batch_size=128)"
      ],
      "execution_count": null,
      "outputs": [
        {
          "output_type": "stream",
          "name": "stdout",
          "text": [
            "Epoch 1/5\n",
            "469/469 [==============================] - 3s 6ms/step - loss: 0.2355 - accuracy: 0.9298 - val_loss: 0.1021 - val_accuracy: 0.9684\n",
            "Epoch 2/5\n",
            "469/469 [==============================] - 2s 5ms/step - loss: 0.0893 - accuracy: 0.9725 - val_loss: 0.1017 - val_accuracy: 0.9696\n",
            "Epoch 3/5\n",
            "469/469 [==============================] - 3s 5ms/step - loss: 0.0580 - accuracy: 0.9819 - val_loss: 0.0645 - val_accuracy: 0.9805\n",
            "Epoch 4/5\n",
            "469/469 [==============================] - 2s 5ms/step - loss: 0.0399 - accuracy: 0.9870 - val_loss: 0.0688 - val_accuracy: 0.9804\n",
            "Epoch 5/5\n",
            "469/469 [==============================] - 2s 5ms/step - loss: 0.0309 - accuracy: 0.9902 - val_loss: 0.0851 - val_accuracy: 0.9771\n"
          ]
        },
        {
          "output_type": "execute_result",
          "data": {
            "text/plain": [
              "<keras.callbacks.History at 0x7fa00022b650>"
            ]
          },
          "metadata": {},
          "execution_count": 26
        }
      ]
    },
    {
      "cell_type": "code",
      "metadata": {
        "colab": {
          "base_uri": "https://localhost:8080/",
          "height": 329
        },
        "id": "7V54xm-IveaN",
        "outputId": "83e57b1e-b935-40d3-dcfa-5e7f8cf19f38"
      },
      "source": [
        "sub_classing_model.summary()\n",
        "plot_model(sub_classing_model,to_file='sub_classing_mode_api.png')"
      ],
      "execution_count": null,
      "outputs": [
        {
          "output_type": "stream",
          "name": "stdout",
          "text": [
            "Model: \"model_sub_classing\"\n",
            "_________________________________________________________________\n",
            " Layer (type)                Output Shape              Param #   \n",
            "=================================================================\n",
            " dense_6 (Dense)             multiple                  401920    \n",
            "                                                                 \n",
            " dense_7 (Dense)             multiple                  65664     \n",
            "                                                                 \n",
            " dense_8 (Dense)             multiple                  1290      \n",
            "                                                                 \n",
            "=================================================================\n",
            "Total params: 468,874\n",
            "Trainable params: 468,874\n",
            "Non-trainable params: 0\n",
            "_________________________________________________________________\n"
          ]
        },
        {
          "output_type": "execute_result",
          "data": {
            "image/png": "[encoded data removed]",
            "text/plain": [
              "<IPython.core.display.Image object>"
            ]
          },
          "metadata": {},
          "execution_count": 27
        }
      ]
    },
    {
      "cell_type": "code",
      "metadata": {
        "colab": {
          "base_uri": "https://localhost:8080/"
        },
        "id": "ZruBPowYvPLT",
        "outputId": "7ba7c3cf-fe68-4a49-d093-9ab8f52a1f61"
      },
      "source": [
        "# The testing step\n",
        "test_loss, test_acc = sub_classing_model.evaluate(test_images, test_labels)\n",
        "print('test_acc:', test_acc)\n",
        "print('test_loss:', test_loss)"
      ],
      "execution_count": null,
      "outputs": [
        {
          "output_type": "stream",
          "name": "stdout",
          "text": [
            "313/313 [==============================] - 1s 3ms/step - loss: 0.0851 - accuracy: 0.9771\n",
            "test_acc: 0.9771000146865845\n",
            "test_loss: 0.08512797206640244\n"
          ]
        }
      ]
    }
  ]
}