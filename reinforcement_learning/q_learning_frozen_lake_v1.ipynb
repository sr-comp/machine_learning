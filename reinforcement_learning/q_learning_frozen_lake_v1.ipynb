{
 "cells": [
  {
   "cell_type": "code",
   "execution_count": 14,
   "id": "6a2fbcaf",
   "metadata": {},
   "outputs": [],
   "source": [
    "from IPython.display import Image\n",
    "from IPython.core.display import HTML\n",
    "\n",
    "import numpy as np\n",
    "import gym\n",
    "import random\n",
    "import time"
   ]
  },
  {
   "cell_type": "code",
   "execution_count": 15,
   "id": "d217b826",
   "metadata": {},
   "outputs": [],
   "source": [
    "env_name = \"FrozenLake-v1\"\n",
    "env = gym.make(env_name)"
   ]
  },
  {
   "cell_type": "code",
   "execution_count": 16,
   "id": "4255c95a",
   "metadata": {},
   "outputs": [],
   "source": [
    "action_size = env.action_space.n\n",
    "state_size = env.observation_space.n"
   ]
  },
  {
   "cell_type": "code",
   "execution_count": 17,
   "id": "c3a61e0a",
   "metadata": {},
   "outputs": [
    {
     "data": {
      "text/plain": [
       "4"
      ]
     },
     "execution_count": 17,
     "metadata": {},
     "output_type": "execute_result"
    }
   ],
   "source": [
    "action_size"
   ]
  },
  {
   "cell_type": "code",
   "execution_count": 18,
   "id": "4a2cd24b",
   "metadata": {},
   "outputs": [
    {
     "data": {
      "text/plain": [
       "16"
      ]
     },
     "execution_count": 18,
     "metadata": {},
     "output_type": "execute_result"
    }
   ],
   "source": [
    "state_size"
   ]
  },
  {
   "cell_type": "code",
   "execution_count": 19,
   "id": "3e72aaca",
   "metadata": {},
   "outputs": [
    {
     "data": {
      "text/plain": [
       "array([[0., 0., 0., 0.],\n",
       "       [0., 0., 0., 0.],\n",
       "       [0., 0., 0., 0.],\n",
       "       [0., 0., 0., 0.],\n",
       "       [0., 0., 0., 0.],\n",
       "       [0., 0., 0., 0.],\n",
       "       [0., 0., 0., 0.],\n",
       "       [0., 0., 0., 0.],\n",
       "       [0., 0., 0., 0.],\n",
       "       [0., 0., 0., 0.],\n",
       "       [0., 0., 0., 0.],\n",
       "       [0., 0., 0., 0.],\n",
       "       [0., 0., 0., 0.],\n",
       "       [0., 0., 0., 0.],\n",
       "       [0., 0., 0., 0.],\n",
       "       [0., 0., 0., 0.]])"
      ]
     },
     "execution_count": 19,
     "metadata": {},
     "output_type": "execute_result"
    }
   ],
   "source": [
    "qtable = np.zeros((state_size, action_size))\n",
    "qtable"
   ]
  },
  {
   "cell_type": "code",
   "execution_count": 20,
   "id": "d540e177",
   "metadata": {},
   "outputs": [],
   "source": [
    "total_episodes = 15000      # total episodes\n",
    "learning_rate = 0.8         # learning rate \n",
    "max_steps = 99              # max steps per episode\n",
    "gamma = 0.95                # discounting rate"
   ]
  },
  {
   "cell_type": "code",
   "execution_count": 21,
   "id": "febde5b5",
   "metadata": {},
   "outputs": [],
   "source": [
    "# exploration paramerers\n",
    "epsilon = 1.0                 # exploration rate\n",
    "max_epsilon = 1.0             # exploration probability at start\n",
    "min_epsilon = 0.01          # minimum exploration probability\n",
    "decay_rate = 0.05           # exponential decay rate for exploration probability"
   ]
  },
  {
   "cell_type": "code",
   "execution_count": 26,
   "id": "070d47b3",
   "metadata": {},
   "outputs": [
    {
     "name": "stdout",
     "output_type": "stream",
     "text": [
      "Score over time: 0.18286666666666668\n",
      "[[1.02374378e+00 1.02434459e+00 1.02469195e+00 1.02470957e+00]\n",
      " [8.37033595e-01 7.92286959e-01 7.82178399e-01 1.02470957e+00]\n",
      " [9.41035411e-01 9.70928116e-01 3.97640475e-01 1.02470957e+00]\n",
      " [8.37802535e-01 1.01394319e+00 8.27036577e-01 1.02470957e+00]\n",
      " [1.02315554e+00 2.26564791e-01 1.57616196e-01 1.82548547e-01]\n",
      " [0.00000000e+00 0.00000000e+00 0.00000000e+00 0.00000000e+00]\n",
      " [2.70697848e-03 1.72295190e-06 1.00319579e+00 7.59023552e-04]\n",
      " [0.00000000e+00 0.00000000e+00 0.00000000e+00 0.00000000e+00]\n",
      " [1.66487481e-01 1.89360753e-01 6.08163394e-03 1.01652179e+00]\n",
      " [2.28956893e-01 1.01328821e+00 5.26055259e-02 2.10979533e-01]\n",
      " [1.00637969e+00 1.36761708e-02 2.05160559e-01 1.78573244e-01]\n",
      " [0.00000000e+00 0.00000000e+00 0.00000000e+00 0.00000000e+00]\n",
      " [0.00000000e+00 0.00000000e+00 0.00000000e+00 0.00000000e+00]\n",
      " [1.89113616e-01 2.05215005e-01 1.00581134e+00 2.48398706e-01]\n",
      " [7.79895636e-01 1.04139310e+00 8.12570350e-01 5.30977208e-01]\n",
      " [0.00000000e+00 0.00000000e+00 0.00000000e+00 0.00000000e+00]]\n"
     ]
    }
   ],
   "source": [
    "rewards = []\n",
    "\n",
    "for episode in range(total_episodes):\n",
    "    state = env.reset()\n",
    "    step = 0\n",
    "    done = False\n",
    "    total_rewards = 0\n",
    "    \n",
    "    for step in range(max_steps):\n",
    "        trade_off = random.uniform(0, 1)\n",
    "           \n",
    "        if trade_off > epsilon:\n",
    "            action = np.argmax(qtable[state,:])\n",
    "        else:\n",
    "            action = env.action_space.sample()\n",
    "        \n",
    "        new_state, reward, done, info = env.step(action)\n",
    "        qtable[state, action] = qtable[state, action] + learning_rate * (reward + gamma * np.max(qtable[new_state, :] - qtable[state, action]))\n",
    "        \n",
    "        \n",
    "        total_rewards += reward\n",
    "        state = new_state\n",
    "        \n",
    "        if done == True:\n",
    "            break\n",
    "        \n",
    "    epsilon = min_epsilon + (max_epsilon - min_epsilon) * np.exp(-decay_rate * episode)\n",
    "    rewards.append(total_rewards)\n",
    "\n",
    "print(\"Score over time:\", str(sum(rewards)/total_episodes))\n",
    "print(qtable)\n",
    "        "
   ]
  },
  {
   "cell_type": "code",
   "execution_count": null,
   "id": "7e6798ad",
   "metadata": {},
   "outputs": [],
   "source": [
    "env.reset()\n",
    "\n",
    "for episode in range(5):\n",
    "    state = env.reset()\n",
    "    step = 0\n",
    "    done = False\n",
    "    \n",
    "    print('Episode: ', episode)\n",
    "    \n",
    "    for step in range(max_steps):\n",
    "        action = np.argmax(qtable[state, :])\n",
    "        new_state, reward, done, info = env.step(action)\n",
    "        env.render()\n",
    "        time.sleep(0.5)\n",
    "        \n",
    "        if done:\n",
    "            print('Number of steps', step)\n",
    "            break\n",
    "        state = new_state\n",
    "    \n",
    "env.close()"
   ]
  }
 ],
 "metadata": {
  "kernelspec": {
   "display_name": "Python 3 (ipykernel)",
   "language": "python",
   "name": "python3"
  },
  "language_info": {
   "codemirror_mode": {
    "name": "ipython",
    "version": 3
   },
   "file_extension": ".py",
   "mimetype": "text/x-python",
   "name": "python",
   "nbconvert_exporter": "python",
   "pygments_lexer": "ipython3",
   "version": "3.9.7"
  }
 },
 "nbformat": 4,
 "nbformat_minor": 5
}
